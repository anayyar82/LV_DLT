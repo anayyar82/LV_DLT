{
 "cells": [
  {
   "cell_type": "code",
   "execution_count": 0,
   "metadata": {
    "application/vnd.databricks.v1+cell": {
     "cellMetadata": {
      "byteLimit": 2048000,
      "implicitDf": true,
      "rowLimit": 10000
     },
     "inputWidgets": {},
     "nuid": "4dfb1236-42af-47b7-b234-4c8e5fa7b287",
     "showTitle": false,
     "tableResultSettingsMap": {},
     "title": ""
    }
   },
   "outputs": [],
   "source": [
    "%sql\n",
    "CREATE TABLE IF NOT EXISTS ankurnayyar_cat1.default.central_constraints (\n",
    "    flow_name STRING,\n",
    "    table_name STRING,\n",
    "    constraint_name STRING,\n",
    "    constraint_expression STRING,\n",
    "    added_at TIMESTAMP,\n",
    "    enabled BOOLEAN\n",
    ")\n",
    "TBLPROPERTIES (\n",
    "  'delta.enableChangeDataFeed' = 'true'\n",
    ");\n"
   ]
  },
  {
   "cell_type": "code",
   "execution_count": 0,
   "metadata": {
    "application/vnd.databricks.v1+cell": {
     "cellMetadata": {
      "byteLimit": 2048000,
      "implicitDf": true,
      "rowLimit": 10000
     },
     "inputWidgets": {},
     "nuid": "8390127b-9a49-43aa-ae76-99c6005eb172",
     "showTitle": false,
     "tableResultSettingsMap": {},
     "title": ""
    }
   },
   "outputs": [],
   "source": [
    "%sql\n",
    "INSERT INTO ankurnayyar_cat1.default.central_constraints (flow_name, table_name, constraint_name, constraint_expression, enabled)\n",
    "VALUES\n",
    " ('silver_events_patient_data_cdc_scd2', 'silver_events_patient_data_scd2', 'id_not_null', 'ID IS NOT NULL', TRUE),\n",
    " ('silver_events_patient_data_cdc_scd2', 'silver_events_patient_data_scd2', 'businessid_not_null', 'BusinessID IS NOT NULL', TRUE),\n",
    " ('silver_events_patient_data_cdc_scd2', 'silver_events_patient_data_scd2', 'dcreated_not_null', 'D_created IS NOT NULL', TRUE),\n",
    " ('silver_events_patient_data_cdc_scd2', 'silver_events_patient_data_scd2', 'state_two_chars', \"D_state RLIKE '^[A-Z]{2}$'\", TRUE),\n",
    " ('silver_events_patient_data_cdc_scd2', 'silver_events_patient_data_scd2', 'zipcode_us_pattern', \"D_zipCode RLIKE '^[0-9]{5}(-[0-9]{4})?$'\", TRUE);\n"
   ]
  },
  {
   "cell_type": "code",
   "execution_count": 0,
   "metadata": {
    "application/vnd.databricks.v1+cell": {
     "cellMetadata": {
      "byteLimit": 2048000,
      "implicitDf": true,
      "rowLimit": 10000
     },
     "inputWidgets": {},
     "nuid": "96cf1df9-d470-4858-b915-585ec9abf2aa",
     "showTitle": false,
     "tableResultSettingsMap": {},
     "title": ""
    }
   },
   "outputs": [],
   "source": [
    "%sql\n",
    "SELECT *\n",
    "FROM ankurnayyar_cat1.default.central_constraints\n",
    "WHERE flow_name = 'silver_events_patient_data_cdc_scd2'\n",
    "  AND table_name = 'silver_events_patient_data_scd2'\n",
    "  AND enabled = TRUE;\n"
   ]
  },
  {
   "cell_type": "code",
   "execution_count": 0,
   "metadata": {
    "application/vnd.databricks.v1+cell": {
     "cellMetadata": {
      "byteLimit": 2048000,
      "implicitDf": true,
      "rowLimit": 10000
     },
     "inputWidgets": {},
     "nuid": "7f38e71c-dcbb-43a9-96e4-e6173c6f9cda",
     "showTitle": true,
     "tableResultSettingsMap": {},
     "title": "-- Dynamically filter data based on central constraints"
    }
   },
   "outputs": [],
   "source": [
    "%sql\n",
    "-- Dynamically filter data based on central constraints\n",
    "CREATE OR REPLACE TEMP VIEW patient_cleaned AS\n",
    "SELECT *\n",
    "FROM silver_events_patient_data_scd2\n",
    "WHERE ID IS NOT NULL\n",
    "  AND BusinessID IS NOT NULL\n",
    "  AND D_created IS NOT NULL\n",
    "  AND D_state RLIKE '^[A-Z]{2}$'\n",
    "  AND D_ZipCode RLIKE '^[0-9]{5}(-[0-9]{4})?$';\n"
   ]
  },
  {
   "cell_type": "code",
   "execution_count": 0,
   "metadata": {
    "application/vnd.databricks.v1+cell": {
     "cellMetadata": {},
     "inputWidgets": {},
     "nuid": "a7f4c24b-0592-498c-9082-0e0d42a7a20e",
     "showTitle": true,
     "tableResultSettingsMap": {},
     "title": "dynamic (driven directly from the central_constraints table):"
    }
   },
   "outputs": [],
   "source": [
    "%sql\n",
    "-- Collect all enabled constraints as a SQL expression\n",
    "WITH rules AS (\n",
    "  SELECT concat_ws(' AND ', collect_list(constraint_expression)) AS where_clause\n",
    "  FROM central_constraints\n",
    "  WHERE flow_name = 'silver_events_patient_data_cdc_scd2'\n",
    "    AND table_name = 'silver_events_patient_data_scd2'\n",
    "    AND enabled = TRUE\n",
    ")\n",
    "SELECT sql_text\n",
    "FROM (\n",
    "  SELECT 'SELECT * FROM silver_events_patient_data_scd2 WHERE ' || where_clause AS sql_text\n",
    "  FROM rules\n",
    ");\n"
   ]
  },
  {
   "cell_type": "code",
   "execution_count": 0,
   "metadata": {
    "application/vnd.databricks.v1+cell": {
     "cellMetadata": {
      "byteLimit": 2048000,
      "implicitDf": true,
      "rowLimit": 10000
     },
     "inputWidgets": {},
     "nuid": "32328c2e-1a32-43a1-b559-707a47b72bf4",
     "showTitle": false,
     "tableResultSettingsMap": {},
     "title": ""
    }
   },
   "outputs": [],
   "source": [
    "%sql\n",
    "CREATE TABLE IF NOT EXISTS ankurnayyar_cat1.default.silver_events_patient_data_quarantine\n",
    "(\n",
    "  flow_name STRING,\n",
    "  table_name STRING,\n",
    "  constraint_name STRING,\n",
    "  constraint_expression STRING,\n",
    "  violated_at TIMESTAMP,\n",
    "  record STRUCT<>\n",
    ")\n",
    "TBLPROPERTIES ('delta.enableChangeDataFeed'='true');\n"
   ]
  },
  {
   "cell_type": "code",
   "execution_count": 0,
   "metadata": {
    "application/vnd.databricks.v1+cell": {
     "cellMetadata": {},
     "inputWidgets": {},
     "nuid": "97e2e3fe-b7c7-4505-a21c-8751972e483d",
     "showTitle": false,
     "tableResultSettingsMap": {},
     "title": ""
    }
   },
   "outputs": [],
   "source": []
  }
 ],
 "metadata": {
  "application/vnd.databricks.v1+notebook": {
   "computePreferences": null,
   "dashboards": [],
   "environmentMetadata": {
    "base_environment": "",
    "environment_version": "3"
   },
   "inputWidgetPreferences": null,
   "language": "python",
   "notebookMetadata": {
    "mostRecentlyExecutedCommandWithImplicitDF": {
     "commandId": 7270276629070703,
     "dataframes": [
      "_sqldf"
     ]
    },
    "pythonIndentUnit": 2
   },
   "notebookName": "Untitled Notebook 2025-09-03 12_01_10",
   "widgets": {}
  },
  "language_info": {
   "name": "python"
  }
 },
 "nbformat": 4,
 "nbformat_minor": 0
}
