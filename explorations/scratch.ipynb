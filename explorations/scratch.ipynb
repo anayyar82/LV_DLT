{
 "cells": [
  {
   "cell_type": "code",
   "execution_count": 0,
   "metadata": {
    "application/vnd.databricks.v1+cell": {
     "cellMetadata": {
      "byteLimit": 2048000,
      "implicitDf": true,
      "rowLimit": 10000
     },
     "inputWidgets": {},
     "nuid": "349f91c8-93a8-42ce-85dd-056639b63c00",
     "showTitle": false,
     "tableResultSettingsMap": {},
     "title": ""
    }
   },
   "outputs": [],
   "source": [
    "%sql \n",
    "describe ankurnayyar_cat1.default.bronze_events_patient_data"
   ]
  },
  {
   "cell_type": "code",
   "execution_count": 0,
   "metadata": {
    "application/vnd.databricks.v1+cell": {
     "cellMetadata": {
      "byteLimit": 2048000,
      "rowLimit": 10000
     },
     "inputWidgets": {},
     "nuid": "7a2113fb-57f7-4b98-b5d0-ca12c6d5d96b",
     "showTitle": false,
     "tableResultSettingsMap": {},
     "title": ""
    }
   },
   "outputs": [],
   "source": [
    "import pandas as pd\n",
    "from datetime import datetime\n",
    "\n",
    "# =========================================================\n",
    "# 1️⃣ Define sample data matching the Bronze schema\n",
    "# =========================================================\n",
    "data = [\n",
    "    {\n",
    "        \"ID\": \"23\",\n",
    "        \"Shard\": \"2115\",\n",
    "        \"Private\": \"false\",\n",
    "        \"Name\": \"9T5FA1\",\n",
    "        \"Address1\": \"Main Ave 123\",\n",
    "        \"Address2\": \"\",\n",
    "        \"City\": \"Phoenix\",\n",
    "        \"State\": \"TX\",\n",
    "        \"ZipCode\": \"50995\",\n",
    "        \"Country\": \"US\",\n",
    "        \"PhoneNumber\": \"5551232255\",\n",
    "        \"BusinessID\": \"7af92634b046e8bb\",\n",
    "        \"Created\": \"1694438408\",\n",
    "        \"CreatedBy\": \"c4af8d09-50a5-11ee-8a8f-26f091458896\",\n",
    "        \"Updated\": \"1694438408\",\n",
    "        \"UpdatedBy\": \"c4af8d09-50a5-11ee-8a8f-26f091458896\",\n",
    "        \"V\": \"\",\n",
    "        \"D\": '{\"address1\":\"Main Ave 123\",\"address2\":\"\",\"businessId\":\"7af92634b046e8bb\",\"city\":\"Phoenix\",\"country\":\"US\",\"created\":1694438408,\"createdBy\":\"c4af8d09-50a5-11ee-8a8f-26f091458896\",\"id\":\"ed9921e2-50a5-11ee-8205-02223a2aacf2\",\"name\":\"9T5FA1\",\"phoneNumber\":\"5551232255\",\"private\":false,\"programs\":null,\"records\":null,\"shard\":2115,\"state\":\"TX\",\"updated\":1694438408,\"updatedBy\":\"c4af8d09-50a5-11ee-8a8f-26f091458896\",\"zipCode\":\"50995\",\"abbott_newfield\":\"AnkurNayyar\", \"zipCode123\":\"50995\"}',\n",
    "        \"P\": \"\"\n",
    "    }\n",
    "]\n",
    "\n",
    "# Convert to DataFrame\n",
    "df = pd.DataFrame(data)\n",
    "\n",
    "# =========================================================\n",
    "# 2️⃣ Define the output TSV file path\n",
    "# =========================================================\n",
    "output_path = \"/Volumes/ankurnayyar_cat1/demo_schema/jsonschema/sample_data.tsv\"\n",
    "\n",
    "# =========================================================\n",
    "# 3️⃣ Save as TSV\n",
    "# =========================================================\n",
    "df.to_csv(output_path, sep=\"\\t\", index=False, header=True)\n",
    "print(f\"TSV file written to: {output_path}\")\n"
   ]
  },
  {
   "cell_type": "code",
   "execution_count": 0,
   "metadata": {
    "application/vnd.databricks.v1+cell": {
     "cellMetadata": {
      "byteLimit": 2048000,
      "implicitDf": true,
      "rowLimit": 10000
     },
     "inputWidgets": {},
     "nuid": "ec1e8a22-451d-47fc-9de9-f7d812db8af6",
     "showTitle": false,
     "tableResultSettingsMap": {},
     "title": ""
    }
   },
   "outputs": [],
   "source": [
    "%sql\n",
    "\n",
    "select * from ankurnayyar_cat1.demo_schema.silver_events_patient_data_scd2\n",
    "where ID in (\"23\", \"ED9921E2-50A5-11EE-8205-02223A2AACF2\")"
   ]
  },
  {
   "cell_type": "code",
   "execution_count": 0,
   "metadata": {
    "application/vnd.databricks.v1+cell": {
     "cellMetadata": {
      "byteLimit": 2048000,
      "implicitDf": true,
      "rowLimit": 10000
     },
     "inputWidgets": {},
     "nuid": "592f2d98-3ef5-42f2-96eb-010e2ba641d7",
     "showTitle": false,
     "tableResultSettingsMap": {},
     "title": ""
    }
   },
   "outputs": [],
   "source": [
    "%sql\n",
    "SELECT * FROM event_log(\"6480d4bf-ca26-4932-a0c9-fb472810dc3c\");\n",
    "\n"
   ]
  },
  {
   "cell_type": "code",
   "execution_count": 0,
   "metadata": {
    "application/vnd.databricks.v1+cell": {
     "cellMetadata": {
      "byteLimit": 2048000,
      "implicitDf": true,
      "rowLimit": 10000
     },
     "inputWidgets": {},
     "nuid": "71b886fe-c641-4d6a-b945-0e07e84cb2ea",
     "showTitle": false,
     "tableResultSettingsMap": {},
     "title": ""
    }
   },
   "outputs": [],
   "source": [
    "%sql\n",
    "WITH schema_history AS (\n",
    "  SELECT\n",
    "    timestamp,\n",
    "    details:flow_definition.output_dataset AS output_table,\n",
    "    details:flow_definition.schema AS schema_json,\n",
    "    ROW_NUMBER() OVER (PARTITION BY details:flow_definition.output_dataset ORDER BY timestamp) AS rn\n",
    "  FROM event_log(\"6480d4bf-ca26-4932-a0c9-fb472810dc3c\")\n",
    "  WHERE event_type = 'flow_definition'\n",
    ")\n",
    "SELECT\n",
    "  s1.output_table,\n",
    "  s1.schema_json AS before_schema,\n",
    "  s2.schema_json AS after_schema,\n",
    "  s1.timestamp AS before_ts,\n",
    "  s2.timestamp AS after_ts\n",
    "FROM schema_history s1\n",
    "JOIN schema_history s2\n",
    "  ON s1.output_table = s2.output_table\n",
    " AND s2.rn = s1.rn + 1\n",
    "WHERE s1.output_table = \"ankurnayyar_cat1.demo_schema.silver_events_patient_data\"\n",
    "ORDER BY s2.timestamp DESC;"
   ]
  },
  {
   "cell_type": "code",
   "execution_count": 0,
   "metadata": {
    "application/vnd.databricks.v1+cell": {
     "cellMetadata": {
      "byteLimit": 2048000,
      "implicitDf": true,
      "rowLimit": 10000
     },
     "inputWidgets": {},
     "nuid": "fc4c9937-db91-4b83-b1ea-ec1a98864abe",
     "showTitle": false,
     "tableResultSettingsMap": {
      "0": {
       "dataGridStateBlob": "{\"version\":1,\"tableState\":{\"columnPinning\":{\"left\":[\"#row_number#\"],\"right\":[]},\"columnSizing\":{\"output_table\":479},\"columnVisibility\":{}},\"settings\":{\"columns\":{}},\"syncTimestamp\":1757345552230}",
       "filterBlob": null,
       "queryPlanFiltersBlob": null,
       "tableResultIndex": 0
      }
     },
     "title": ""
    }
   },
   "outputs": [],
   "source": [
    "%sql\n",
    "WITH schema_history AS (\n",
    "  SELECT\n",
    "    timestamp,\n",
    "    details:flow_definition.output_dataset AS output_table,\n",
    "    details:flow_definition.schema AS schema_json,\n",
    "    ROW_NUMBER() OVER (\n",
    "      PARTITION BY details:flow_definition.output_dataset\n",
    "      ORDER BY timestamp\n",
    "    ) AS rn_asc,\n",
    "    ROW_NUMBER() OVER (\n",
    "      PARTITION BY details:flow_definition.output_dataset\n",
    "      ORDER BY timestamp DESC\n",
    "    ) AS rn_desc\n",
    "  FROM event_log(\"6480d4bf-ca26-4932-a0c9-fb472810dc3c\")\n",
    "  WHERE event_type = 'flow_definition'\n",
    "),\n",
    "first_last AS (\n",
    "  SELECT\n",
    "    f.output_table,\n",
    "    f.timestamp AS first_ts,\n",
    "    f.schema_json AS before_schema,\n",
    "    l.timestamp AS last_ts,\n",
    "    l.schema_json AS after_schema\n",
    "  FROM schema_history f\n",
    "  JOIN schema_history l\n",
    "    ON f.output_table = l.output_table\n",
    "  WHERE f.rn_asc = 1\n",
    "    AND l.rn_desc = 1\n",
    "),\n",
    "before_cols AS (\n",
    "  SELECT\n",
    "    output_table,\n",
    "    explode(from_json(before_schema, 'array<struct<name:string,path:array<string>,data_type:string>>')) AS col\n",
    "  FROM first_last\n",
    "),\n",
    "after_cols AS (\n",
    "  SELECT\n",
    "    output_table,\n",
    "    explode(from_json(after_schema, 'array<struct<name:string,path:array<string>,data_type:string>>')) AS col\n",
    "  FROM first_last\n",
    ")\n",
    "-- matched and unmatched columns\n",
    "SELECT\n",
    "  a.output_table,\n",
    "  a.col.name AS column_name,\n",
    "  a.col.data_type AS column_type,\n",
    "  CASE\n",
    "    WHEN b.col.name IS NULL THEN 'NEW'       -- column in after, not in before\n",
    "    ELSE 'MATCHED'                           -- column exists in both\n",
    "  END AS status,\n",
    "  fl.first_ts,\n",
    "  fl.last_ts\n",
    "FROM after_cols a\n",
    "LEFT JOIN before_cols b\n",
    "  ON a.output_table = b.output_table\n",
    " AND a.col.name = b.col.name\n",
    "JOIN first_last fl\n",
    "  ON a.output_table = fl.output_table\n",
    "where a.output_table = 'ankurnayyar_cat1.demo_schema.silver_events_patient_data'\n",
    "ORDER BY fl.last_ts DESC, a.output_table;\n"
   ]
  },
  {
   "cell_type": "code",
   "execution_count": 0,
   "metadata": {
    "application/vnd.databricks.v1+cell": {
     "cellMetadata": {},
     "inputWidgets": {},
     "nuid": "d15e5bbf-706a-4375-bc18-b7d397c312dc",
     "showTitle": false,
     "tableResultSettingsMap": {},
     "title": ""
    }
   },
   "outputs": [],
   "source": []
  }
 ],
 "metadata": {
  "application/vnd.databricks.v1+notebook": {
   "computePreferences": null,
   "dashboards": [],
   "environmentMetadata": null,
   "inputWidgetPreferences": null,
   "language": "python",
   "notebookMetadata": {
    "mostRecentlyExecutedCommandWithImplicitDF": {
     "commandId": 7270276629194105,
     "dataframes": [
      "_sqldf"
     ]
    },
    "pythonIndentUnit": 2
   },
   "notebookName": "scratch",
   "widgets": {}
  },
  "language_info": {
   "name": "python"
  }
 },
 "nbformat": 4,
 "nbformat_minor": 0
}
