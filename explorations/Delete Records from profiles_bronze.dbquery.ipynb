{
 "cells": [
  {
   "cell_type": "code",
   "execution_count": 0,
   "metadata": {
    "application/vnd.databricks.v1+cell": {
     "cellMetadata": {
      "byteLimit": 2048000,
      "rowLimit": 10000
     },
     "inputWidgets": {},
     "nuid": "444f91d0-f580-4150-8249-36bfed1923be",
     "showTitle": false,
     "tableResultSettingsMap": {},
     "title": ""
    }
   },
   "outputs": [],
   "source": [
    "\n",
    "-- -- Select the offsets to delete from the streaming table\n",
    "SELECT * \n",
    "FROM ankurnayyar_cat1.default.bronze_events_patient_data;\n",
    "WHERE ED9921E2-50A5-11EE-8205-02223A2AACF2 IN (\n",
    "  SELECT random_offsets FROM mv_random_offset_deletes\n",
    ");\n",
    "\n",
    "-- -- Delete the records\n",
    "-- DELETE FROM profiles_bronze\n",
    "-- WHERE offset IN (\n",
    "--   SELECT random_offsets FROM mv_random_offset_deletes\n",
    "-- );\n",
    "\n",
    "-- -- Check again that their gone.\n",
    "-- SELECT count(*) as kept_records \n",
    "-- FROM profiles_bronze\n",
    "-- WHERE offset IN (\n",
    "--   SELECT random_offsets FROM mv_random_offset_deletes\n",
    "-- );"
   ]
  },
  {
   "cell_type": "code",
   "execution_count": 0,
   "metadata": {
    "application/vnd.databricks.v1+cell": {
     "cellMetadata": {
      "byteLimit": 2048000,
      "rowLimit": 10000
     },
     "inputWidgets": {},
     "nuid": "99f99770-830c-46db-9743-cda9d442a934",
     "showTitle": false,
     "tableResultSettingsMap": {},
     "title": ""
    }
   },
   "outputs": [],
   "source": [
    "%sql \n",
    "\n",
    "drop table ankurnayyar_cat1.default.silver_events_patient_data"
   ]
  },
  {
   "cell_type": "code",
   "execution_count": 0,
   "metadata": {
    "application/vnd.databricks.v1+cell": {
     "cellMetadata": {},
     "inputWidgets": {},
     "nuid": "7fae3816-2f16-427a-8c85-167e668aaf32",
     "showTitle": false,
     "tableResultSettingsMap": {},
     "title": ""
    }
   },
   "outputs": [],
   "source": []
  }
 ],
 "metadata": {
  "application/vnd.databricks.v1+notebook": {
   "computePreferences": null,
   "dashboards": [],
   "environmentMetadata": null,
   "inputWidgetPreferences": null,
   "language": "sql",
   "notebookMetadata": {
    "pythonIndentUnit": 2,
    "sqlQueryOptions": {
     "applyAutoLimit": true,
     "catalog": "mgiglia",
     "schema": "redpanda"
    }
   },
   "notebookName": "Delete Records from profiles_bronze.dbquery",
   "widgets": {}
  },
  "language_info": {
   "name": "sql"
  }
 },
 "nbformat": 4,
 "nbformat_minor": 0
}
